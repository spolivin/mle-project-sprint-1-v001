{
 "cells": [
  {
   "cell_type": "markdown",
   "metadata": {},
   "source": [
    "# Building a model"
   ]
  },
  {
   "cell_type": "markdown",
   "metadata": {},
   "source": [
    "## Imports and extensions"
   ]
  },
  {
   "cell_type": "code",
   "execution_count": 1,
   "metadata": {},
   "outputs": [],
   "source": [
    "%load_ext autoreload\n",
    "%autoreload 2"
   ]
  },
  {
   "cell_type": "code",
   "execution_count": 2,
   "metadata": {},
   "outputs": [],
   "source": [
    "import os\n",
    "\n",
    "import pandas as pd\n",
    "from catboost import CatBoostRegressor\n",
    "from dotenv import load_dotenv\n",
    "from sklearn.compose import make_column_transformer\n",
    "from sklearn.model_selection import cross_validate\n",
    "from sklearn.pipeline import make_pipeline\n",
    "from sklearn.preprocessing import StandardScaler\n",
    "\n",
    "from sqlalchemy import create_engine"
   ]
  },
  {
   "cell_type": "markdown",
   "metadata": {},
   "source": [
    "## Connecting to DB"
   ]
  },
  {
   "cell_type": "code",
   "execution_count": 3,
   "metadata": {},
   "outputs": [
    {
     "data": {
      "text/plain": [
       "True"
      ]
     },
     "execution_count": 3,
     "metadata": {},
     "output_type": "execute_result"
    }
   ],
   "source": [
    "load_dotenv()"
   ]
  },
  {
   "cell_type": "code",
   "execution_count": 4,
   "metadata": {},
   "outputs": [],
   "source": [
    "dst_host = os.environ.get('DB_DESTINATION_HOST')\n",
    "dst_port = os.environ.get('DB_DESTINATION_PORT')\n",
    "dst_username = os.environ.get('DB_DESTINATION_USER')\n",
    "dst_password = os.environ.get('DB_DESTINATION_PASSWORD')\n",
    "dst_db = os.environ.get('DB_DESTINATION_NAME')"
   ]
  },
  {
   "cell_type": "code",
   "execution_count": 5,
   "metadata": {},
   "outputs": [],
   "source": [
    "dst_conn = create_engine(\n",
    "    f'postgresql://{dst_username}:{dst_password}@{dst_host}:{dst_port}/{dst_db}'\n",
    "    )"
   ]
  },
  {
   "cell_type": "markdown",
   "metadata": {},
   "source": [
    "## Pulling the data"
   ]
  },
  {
   "cell_type": "code",
   "execution_count": 6,
   "metadata": {},
   "outputs": [
    {
     "data": {
      "text/html": [
       "<div>\n",
       "<style scoped>\n",
       "    .dataframe tbody tr th:only-of-type {\n",
       "        vertical-align: middle;\n",
       "    }\n",
       "\n",
       "    .dataframe tbody tr th {\n",
       "        vertical-align: top;\n",
       "    }\n",
       "\n",
       "    .dataframe thead th {\n",
       "        text-align: right;\n",
       "    }\n",
       "</style>\n",
       "<table border=\"1\" class=\"dataframe\">\n",
       "  <thead>\n",
       "    <tr style=\"text-align: right;\">\n",
       "      <th></th>\n",
       "      <th>building_type_int</th>\n",
       "      <th>latitude</th>\n",
       "      <th>longitude</th>\n",
       "      <th>ceiling_height</th>\n",
       "      <th>flats_count</th>\n",
       "      <th>floors_total</th>\n",
       "      <th>has_elevator</th>\n",
       "      <th>floor</th>\n",
       "      <th>kitchen_area</th>\n",
       "      <th>living_area</th>\n",
       "      <th>rooms</th>\n",
       "      <th>is_apartment</th>\n",
       "      <th>studio</th>\n",
       "      <th>total_area</th>\n",
       "      <th>price</th>\n",
       "    </tr>\n",
       "    <tr>\n",
       "      <th>flat_id</th>\n",
       "      <th></th>\n",
       "      <th></th>\n",
       "      <th></th>\n",
       "      <th></th>\n",
       "      <th></th>\n",
       "      <th></th>\n",
       "      <th></th>\n",
       "      <th></th>\n",
       "      <th></th>\n",
       "      <th></th>\n",
       "      <th></th>\n",
       "      <th></th>\n",
       "      <th></th>\n",
       "      <th></th>\n",
       "      <th></th>\n",
       "    </tr>\n",
       "  </thead>\n",
       "  <tbody>\n",
       "    <tr>\n",
       "      <th>130624</th>\n",
       "      <td>4</td>\n",
       "      <td>55.693623</td>\n",
       "      <td>37.593281</td>\n",
       "      <td>2.64</td>\n",
       "      <td>360</td>\n",
       "      <td>16</td>\n",
       "      <td>True</td>\n",
       "      <td>5</td>\n",
       "      <td>12.00</td>\n",
       "      <td>33.799999</td>\n",
       "      <td>2</td>\n",
       "      <td>False</td>\n",
       "      <td>False</td>\n",
       "      <td>57.799999</td>\n",
       "      <td>19777000</td>\n",
       "    </tr>\n",
       "    <tr>\n",
       "      <th>130625</th>\n",
       "      <td>4</td>\n",
       "      <td>55.871330</td>\n",
       "      <td>37.664104</td>\n",
       "      <td>2.70</td>\n",
       "      <td>191</td>\n",
       "      <td>12</td>\n",
       "      <td>True</td>\n",
       "      <td>12</td>\n",
       "      <td>6.68</td>\n",
       "      <td>36.849998</td>\n",
       "      <td>2</td>\n",
       "      <td>False</td>\n",
       "      <td>False</td>\n",
       "      <td>45.810001</td>\n",
       "      <td>11500000</td>\n",
       "    </tr>\n",
       "    <tr>\n",
       "      <th>130626</th>\n",
       "      <td>1</td>\n",
       "      <td>55.813946</td>\n",
       "      <td>37.599911</td>\n",
       "      <td>3.00</td>\n",
       "      <td>223</td>\n",
       "      <td>7</td>\n",
       "      <td>True</td>\n",
       "      <td>6</td>\n",
       "      <td>10.00</td>\n",
       "      <td>34.000000</td>\n",
       "      <td>2</td>\n",
       "      <td>False</td>\n",
       "      <td>False</td>\n",
       "      <td>58.000000</td>\n",
       "      <td>12750000</td>\n",
       "    </tr>\n",
       "    <tr>\n",
       "      <th>130627</th>\n",
       "      <td>4</td>\n",
       "      <td>55.606606</td>\n",
       "      <td>37.740093</td>\n",
       "      <td>2.70</td>\n",
       "      <td>469</td>\n",
       "      <td>12</td>\n",
       "      <td>True</td>\n",
       "      <td>8</td>\n",
       "      <td>7.00</td>\n",
       "      <td>30.000000</td>\n",
       "      <td>2</td>\n",
       "      <td>False</td>\n",
       "      <td>False</td>\n",
       "      <td>47.000000</td>\n",
       "      <td>7500000</td>\n",
       "    </tr>\n",
       "    <tr>\n",
       "      <th>130629</th>\n",
       "      <td>4</td>\n",
       "      <td>55.681316</td>\n",
       "      <td>37.665867</td>\n",
       "      <td>2.64</td>\n",
       "      <td>208</td>\n",
       "      <td>17</td>\n",
       "      <td>True</td>\n",
       "      <td>6</td>\n",
       "      <td>16.00</td>\n",
       "      <td>30.000000</td>\n",
       "      <td>2</td>\n",
       "      <td>False</td>\n",
       "      <td>False</td>\n",
       "      <td>57.000000</td>\n",
       "      <td>12990000</td>\n",
       "    </tr>\n",
       "  </tbody>\n",
       "</table>\n",
       "</div>"
      ],
      "text/plain": [
       "         building_type_int   latitude  longitude  ceiling_height  flats_count  \\\n",
       "flat_id                                                                         \n",
       "130624                   4  55.693623  37.593281            2.64          360   \n",
       "130625                   4  55.871330  37.664104            2.70          191   \n",
       "130626                   1  55.813946  37.599911            3.00          223   \n",
       "130627                   4  55.606606  37.740093            2.70          469   \n",
       "130629                   4  55.681316  37.665867            2.64          208   \n",
       "\n",
       "         floors_total  has_elevator  floor  kitchen_area  living_area  rooms  \\\n",
       "flat_id                                                                        \n",
       "130624             16          True      5         12.00    33.799999      2   \n",
       "130625             12          True     12          6.68    36.849998      2   \n",
       "130626              7          True      6         10.00    34.000000      2   \n",
       "130627             12          True      8          7.00    30.000000      2   \n",
       "130629             17          True      6         16.00    30.000000      2   \n",
       "\n",
       "         is_apartment  studio  total_area     price  \n",
       "flat_id                                              \n",
       "130624          False   False   57.799999  19777000  \n",
       "130625          False   False   45.810001  11500000  \n",
       "130626          False   False   58.000000  12750000  \n",
       "130627          False   False   47.000000   7500000  \n",
       "130629          False   False   57.000000  12990000  "
      ]
     },
     "metadata": {},
     "output_type": "display_data"
    }
   ],
   "source": [
    "try:\n",
    "    data = pd.read_sql(f'SELECT * FROM flats_clean', dst_conn, index_col='flat_id')\n",
    "except:\n",
    "    print(f\"Relation does not exist.\")\n",
    "else:\n",
    "    data.drop(['id', 'build_year'], axis=1, inplace=True)\n",
    "    display(data.head())"
   ]
  },
  {
   "cell_type": "markdown",
   "metadata": {},
   "source": [
    "## Columns analysis"
   ]
  },
  {
   "cell_type": "code",
   "execution_count": 7,
   "metadata": {},
   "outputs": [
    {
     "data": {
      "text/plain": [
       "building_type_int      int64\n",
       "latitude             float64\n",
       "longitude            float64\n",
       "ceiling_height       float64\n",
       "flats_count            int64\n",
       "floors_total           int64\n",
       "has_elevator            bool\n",
       "floor                  int64\n",
       "kitchen_area         float64\n",
       "living_area          float64\n",
       "rooms                  int64\n",
       "is_apartment            bool\n",
       "studio                  bool\n",
       "total_area           float64\n",
       "price                  int64\n",
       "dtype: object"
      ]
     },
     "execution_count": 7,
     "metadata": {},
     "output_type": "execute_result"
    }
   ],
   "source": [
    "data.dtypes"
   ]
  },
  {
   "cell_type": "markdown",
   "metadata": {},
   "source": [
    "Рассмотрим все целочисленные колонки, в которых может содержаться категориальная структура:"
   ]
  },
  {
   "cell_type": "code",
   "execution_count": 8,
   "metadata": {},
   "outputs": [
    {
     "data": {
      "text/plain": [
       "flats_count          588\n",
       "floors_total          29\n",
       "floor                 20\n",
       "building_type_int      6\n",
       "rooms                  5\n",
       "dtype: int64"
      ]
     },
     "execution_count": 8,
     "metadata": {},
     "output_type": "execute_result"
    }
   ],
   "source": [
    "cat_features = data.select_dtypes('int64').drop('price', axis=1)\n",
    "cat_features_uniq_counts = cat_features.nunique()\n",
    "cat_features_uniq_counts.sort_values(ascending=False)"
   ]
  },
  {
   "cell_type": "markdown",
   "metadata": {},
   "source": [
    "Будем считать категориальными те колонки, в которых меньше 11 категорий:"
   ]
  },
  {
   "cell_type": "code",
   "execution_count": 9,
   "metadata": {},
   "outputs": [
    {
     "data": {
      "text/plain": [
       "['flats_count', 'floors_total', 'floor']"
      ]
     },
     "execution_count": 9,
     "metadata": {},
     "output_type": "execute_result"
    }
   ],
   "source": [
    "cat_features_to_scale = cat_features_uniq_counts[cat_features_uniq_counts > 10].index.tolist()\n",
    "cat_features_to_scale"
   ]
  },
  {
   "cell_type": "code",
   "execution_count": 10,
   "metadata": {},
   "outputs": [
    {
     "data": {
      "text/plain": [
       "['latitude',\n",
       " 'longitude',\n",
       " 'ceiling_height',\n",
       " 'kitchen_area',\n",
       " 'living_area',\n",
       " 'total_area']"
      ]
     },
     "execution_count": 10,
     "metadata": {},
     "output_type": "execute_result"
    }
   ],
   "source": [
    "num_features = data.select_dtypes('float64').columns.tolist()\n",
    "num_features"
   ]
  },
  {
   "cell_type": "code",
   "execution_count": 11,
   "metadata": {},
   "outputs": [
    {
     "data": {
      "text/plain": [
       "['latitude',\n",
       " 'longitude',\n",
       " 'ceiling_height',\n",
       " 'kitchen_area',\n",
       " 'living_area',\n",
       " 'total_area',\n",
       " 'flats_count',\n",
       " 'floors_total',\n",
       " 'floor']"
      ]
     },
     "execution_count": 11,
     "metadata": {},
     "output_type": "execute_result"
    }
   ],
   "source": [
    "features_to_scale = num_features + cat_features_to_scale\n",
    "features_to_scale"
   ]
  },
  {
   "cell_type": "markdown",
   "metadata": {},
   "source": [
    "## Training CatBoost"
   ]
  },
  {
   "cell_type": "code",
   "execution_count": 12,
   "metadata": {},
   "outputs": [],
   "source": [
    "preprocessor = make_column_transformer(\n",
    "    (StandardScaler(), features_to_scale),\n",
    "    remainder='passthrough',\n",
    "    verbose_feature_names_out=False,\n",
    ")"
   ]
  },
  {
   "cell_type": "code",
   "execution_count": 13,
   "metadata": {},
   "outputs": [],
   "source": [
    "model = CatBoostRegressor(verbose=False)\n",
    "pipe = make_pipeline(preprocessor, model)"
   ]
  },
  {
   "cell_type": "code",
   "execution_count": 14,
   "metadata": {},
   "outputs": [],
   "source": [
    "features = data.drop('price', axis=1)\n",
    "target = data['price']"
   ]
  },
  {
   "cell_type": "code",
   "execution_count": 15,
   "metadata": {},
   "outputs": [
    {
     "data": {
      "text/plain": [
       "array([16527289.10589424, 10794725.73972196, 16743355.42170538, ...,\n",
       "        7362527.12075652, 10627543.88302161,  5401518.21288675])"
      ]
     },
     "execution_count": 15,
     "metadata": {},
     "output_type": "execute_result"
    }
   ],
   "source": [
    "pipe.fit(features, target)\n",
    "pipe.predict(features)"
   ]
  },
  {
   "cell_type": "markdown",
   "metadata": {},
   "source": [
    "## Cross-validation"
   ]
  },
  {
   "cell_type": "code",
   "execution_count": 16,
   "metadata": {},
   "outputs": [
    {
     "data": {
      "text/plain": [
       "{'fit_time': 24.327, 'score_time': 0.102, 'test_score': -2415562.858}"
      ]
     },
     "execution_count": 16,
     "metadata": {},
     "output_type": "execute_result"
    }
   ],
   "source": [
    "cv_res = cross_validate(\n",
    "    pipe,\n",
    "    features,\n",
    "    target,\n",
    "    cv=5,\n",
    "    n_jobs=-1,\n",
    "    scoring='neg_root_mean_squared_error',\n",
    ")\n",
    "\n",
    "for key, value in cv_res.items():\n",
    "        cv_res[key] = round(value.mean(), 3)\n",
    "\n",
    "cv_res"
   ]
  },
  {
   "cell_type": "code",
   "execution_count": 17,
   "metadata": {},
   "outputs": [],
   "source": [
    "dst_conn.dispose()"
   ]
  }
 ],
 "metadata": {
  "kernelspec": {
   "display_name": ".venv_re",
   "language": "python",
   "name": "python3"
  },
  "language_info": {
   "codemirror_mode": {
    "name": "ipython",
    "version": 3
   },
   "file_extension": ".py",
   "mimetype": "text/x-python",
   "name": "python",
   "nbconvert_exporter": "python",
   "pygments_lexer": "ipython3",
   "version": "3.10.12"
  }
 },
 "nbformat": 4,
 "nbformat_minor": 2
}
